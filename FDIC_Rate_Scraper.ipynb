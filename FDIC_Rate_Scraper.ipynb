{
 "cells": [
  {
   "cell_type": "code",
   "execution_count": null,
   "id": "33020867-75ba-48b6-b6c1-5229b5d1dc69",
   "metadata": {},
   "outputs": [],
   "source": [
    "import pandas as pd\n",
    "import json\n",
    "import bs4\n",
    "from bs4 import BeautifulSoup\n",
    "import requests as r\n",
    "import csv\n",
    "import os"
   ]
  },
  {
   "cell_type": "code",
   "execution_count": null,
   "id": "8a49c14f-ecbe-4108-b85f-249519b5985d",
   "metadata": {},
   "outputs": [],
   "source": [
    "#Scrape the FDIC page using beautifulsoup\n",
    "#Since JavaScript isn't used to load the page, we can get away without having to use a browser (like Chromium or Firefox)\n",
    "web_link ='https://www.fdic.gov/regulations/resources/rates/'\n",
    "Get_DB_Data=r.get(web_link, verify=False)\n",
    "convert_to_text=Get_DB_Data.text\n",
    "soup=BeautifulSoup(convert_to_text, 'html.parser')"
   ]
  },
  {
   "cell_type": "code",
   "execution_count": null,
   "id": "609d818f-89f4-4276-a485-3521aafdbad0",
   "metadata": {},
   "outputs": [],
   "source": [
    "table_data=[]\n",
    "#Find the table on the webpage that contains the rate data and clean up some variables \n",
    "table = soup.find_all(\"table\", { \"class\" : \"fdic-table fdic-table-alt width-full\" })\n",
    "date_extract = soup.findAll(\"h2\")[5]\n",
    "date_extract_txt= str(date_extract)\n",
    "date_extract2= date_extract_txt.replace(\"Monthly Rate Cap Information as of\",\" \")\n",
    "date_extract3= date_extract2.replace(\"<h2>\",\"\")\n",
    "date_extract4= date_extract3.replace(\"</h2>\",\"\")\n",
    "date_extract5= date_extract4.replace(\".\",\"\")\n",
    "table1 = table[0]"
   ]
  },
  {
   "cell_type": "code",
   "execution_count": null,
   "id": "24ad527e-57ce-4cdd-bda1-8fd3d1f74dfa",
   "metadata": {},
   "outputs": [],
   "source": [
    "#download the results of the table row by row and throw it into a DataFrame\n",
    "table_1_create=([[td.text for td in row.find_all(\"td\")] for row in table1.select(\"tr\")])\n",
    "\n",
    "table_1_df=pd.DataFrame(table_1_create)\n",
    "table_1_df.columns=['Deposit_Products', 'National_Deposit_Rate', 'National_Deposit_Rate_Cap_Adj','Treasury_Yield','Treasury_Yield_Rate_Cap_Adj','National_Rate_Cap']\n",
    "table_1_df= table_1_df.drop(table_1_df.index[[0]])"
   ]
  },
  {
   "cell_type": "code",
   "execution_count": null,
   "id": "066c53e1-b68b-4348-b82b-4a2e4a0e50fd",
   "metadata": {},
   "outputs": [],
   "source": [
    "table_1_df['Date_of_Rate']= pd.to_datetime(date_extract5)"
   ]
  },
  {
   "cell_type": "code",
   "execution_count": null,
   "id": "3081c8ee-a44b-43c0-b2d0-c50b3294ea2c",
   "metadata": {},
   "outputs": [],
   "source": [
    "#Throw the results into a file for output\n",
    "import time\n",
    "timestr = time.strftime(\"%Y%m%d\")\n",
    "filename = 'filename_' + timestr + '.csv'\n",
    "table_1_df.to_csv(filename, index=False)"
   ]
  }
 ],
 "metadata": {
  "kernelspec": {
   "display_name": "FDIC_Rate_Scraper",
   "language": "python",
   "name": "fdic_rate_scraper"
  },
  "language_info": {
   "codemirror_mode": {
    "name": "ipython",
    "version": 3
   },
   "file_extension": ".py",
   "mimetype": "text/x-python",
   "name": "python",
   "nbconvert_exporter": "python",
   "pygments_lexer": "ipython3",
   "version": "3.9.5"
  }
 },
 "nbformat": 4,
 "nbformat_minor": 5
}
